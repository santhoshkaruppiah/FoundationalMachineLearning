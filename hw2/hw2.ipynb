{
 "cells": [
  {
   "cell_type": "markdown",
   "metadata": {},
   "source": [
    "Problem 1: Find the distribution!\n",
    "\n",
    "These are the data-set for the number of car accidents in the rush hour of a small city. You are assigned to predict the number of car accidents in a given hour of the day. You need to find the full probability distribution of this quantity.\n",
    "Also, make sure to clearly state the assumptions you are making at each step.\n",
    "\n",
    "Answer:\n",
    "\n",
    "We will use poisson probability distribution function to derive the distributions.\n",
    "\n",
    "P(X=i) = (e^-mu * mu^i)/i!\n",
    "\n",
    "e = 2.7182\n",
    "\n",
    "We already know the rush hour statistics for 11 hours. We will use poisson distributions to estimate number of accidents.\n",
    "\n",
    "The certain assumptions made are rush will have max number of accidents and non-rush hours have minimum number of accidents compared to rush hours."
   ]
  },
  {
   "cell_type": "code",
   "execution_count": 1,
   "metadata": {},
   "outputs": [],
   "source": [
    "rush_hour_accidents = [16,24,16,12,16,11,14,15,9,14,7]"
   ]
  },
  {
   "cell_type": "code",
   "execution_count": 2,
   "metadata": {},
   "outputs": [
    {
     "data": {
      "text/plain": [
       "11"
      ]
     },
     "execution_count": 2,
     "metadata": {},
     "output_type": "execute_result"
    }
   ],
   "source": [
    "len(rush_hour_accidents)"
   ]
  },
  {
   "cell_type": "code",
   "execution_count": 3,
   "metadata": {},
   "outputs": [
    {
     "data": {
      "text/plain": [
       "[16, 24, 16, 12, 16, 11, 14, 15, 9, 14, 7]"
      ]
     },
     "execution_count": 3,
     "metadata": {},
     "output_type": "execute_result"
    }
   ],
   "source": [
    "rush_hour_accidents"
   ]
  },
  {
   "cell_type": "code",
   "execution_count": 4,
   "metadata": {},
   "outputs": [],
   "source": [
    "avg = sum(rush_hour_accidents)/11"
   ]
  },
  {
   "cell_type": "code",
   "execution_count": 5,
   "metadata": {},
   "outputs": [
    {
     "data": {
      "text/plain": [
       "7"
      ]
     },
     "execution_count": 5,
     "metadata": {},
     "output_type": "execute_result"
    }
   ],
   "source": [
    "min(rush_hour_accidents)"
   ]
  },
  {
   "cell_type": "code",
   "execution_count": 6,
   "metadata": {},
   "outputs": [
    {
     "data": {
      "text/plain": [
       "24"
      ]
     },
     "execution_count": 6,
     "metadata": {},
     "output_type": "execute_result"
    }
   ],
   "source": [
    "max(rush_hour_accidents)"
   ]
  },
  {
   "cell_type": "code",
   "execution_count": 7,
   "metadata": {},
   "outputs": [
    {
     "data": {
      "text/plain": [
       "14.0"
      ]
     },
     "execution_count": 7,
     "metadata": {},
     "output_type": "execute_result"
    }
   ],
   "source": [
    "avg"
   ]
  },
  {
   "cell_type": "code",
   "execution_count": 8,
   "metadata": {},
   "outputs": [
    {
     "name": "stdout",
     "output_type": "stream",
     "text": [
      "x 16 px 0.08659429148408561 px*100 8.659429148408561\n",
      "x 24 px 0.004309505826375408 px*100 0.4309505826375408\n",
      "x 16 px 0.08659429148408561 px*100 8.659429148408561\n",
      "x 12 px 0.09845998157082622 px*100 9.845998157082622\n",
      "x 16 px 0.08659429148408561 px*100 8.659429148408561\n",
      "x 11 px 0.08439426991785104 px*100 8.439426991785105\n",
      "x 14 px 0.10603382630704361 px*100 10.603382630704361\n",
      "x 15 px 0.0989649045532407 px*100 9.89649045532407\n",
      "x 9 px 0.04736413107634497 px*100 4.736413107634497\n",
      "x 14 px 0.10603382630704361 px*100 10.603382630704361\n",
      "x 7 px 0.017399068558657336 px*100 1.7399068558657336\n",
      "sum of px 0.8227423885696398\n"
     ]
    }
   ],
   "source": [
    "import math\n",
    "sum = 0\n",
    "for x in rush_hour_accidents:\n",
    "    px = (pow(2.7182,-avg)*pow(avg,x))/math.factorial(x)\n",
    "    print('x {} px {} px*100 {}'.format(x,px,px*100))\n",
    "    sum+=px\n",
    "print('sum of px {}'.format(sum))"
   ]
  },
  {
   "cell_type": "markdown",
   "metadata": {},
   "source": [
    "Now, we assume for remaining hours of the day there are mininum number of accidents an hour compared to rush hours.\n",
    "\n",
    "We will use below function which use poisson distribution to estimate number of accidents, proababilities of the same."
   ]
  },
  {
   "cell_type": "code",
   "execution_count": 9,
   "metadata": {},
   "outputs": [
    {
     "name": "stdout",
     "output_type": "stream",
     "text": [
      "accident_cnt 1 x 1 px 1.1646309352346941e-05 px*100 0.0011646309352346942\n",
      "accident_cnt 5 x 2 px 0.0037283718339980007 px*100 0.3728371833998001\n",
      "accident_cnt 5 x 3 px 0.0037283718339980007 px*100 0.3728371833998001\n",
      "accident_cnt 2 x 4 px 8.152416546642858e-05 px*100 0.008152416546642859\n",
      "accident_cnt 6 x 5 px 0.008699534279328668 px*100 0.8699534279328668\n",
      "accident_cnt 0 x 6 px 8.318792394533529e-07 px*100 8.31879239453353e-05\n",
      "accident_cnt 3 x 7 px 0.00038044610551000004 px*100 0.038044610551\n",
      "accident_cnt 1 x 8 px 1.1646309352346941e-05 px*100 0.0011646309352346942\n",
      "accident_cnt 2 x 9 px 8.152416546642858e-05 px*100 0.008152416546642859\n",
      "accident_cnt 3 x 10 px 0.00038044610551000004 px*100 0.038044610551\n",
      "accident_cnt 6 x 11 px 0.008699534279328668 px*100 0.8699534279328668\n",
      "accident_cnt 0 x 12 px 8.318792394533529e-07 px*100 8.31879239453353e-05\n",
      "accident_cnt 0 x 13 px 8.318792394533529e-07 px*100 8.31879239453353e-05\n",
      "0.025805541025029244\n"
     ]
    }
   ],
   "source": [
    "import random\n",
    "#avg = 6.0\n",
    "sum_ = 0\n",
    "for x in range(1,14):\n",
    "    accident_cnt = random.randint(0,6)\n",
    "    px = (pow(2.7182,-avg)*pow(avg,accident_cnt))/math.factorial(accident_cnt)\n",
    "    print('accident_cnt {} x {} px {} px*100 {}'.format(accident_cnt,x,px,px*100))\n",
    "    sum_+=px\n",
    "print(sum_)"
   ]
  },
  {
   "cell_type": "markdown",
   "metadata": {},
   "source": [
    "Problem 2: Find the parameters!\n",
    "\n",
    "Write a python function to find μ and σ:\n",
    "See attachments for proof"
   ]
  },
  {
   "cell_type": "code",
   "execution_count": 4,
   "metadata": {},
   "outputs": [],
   "source": [
    "import numpy as np\n",
    "\n",
    "def find_parameters(mean_list,variance_list):\n",
    "    mean = np.mean(mean_list)\n",
    "    standard_deviation = np.std(variance_list)\n",
    "    return mean, standard_deviation"
   ]
  },
  {
   "cell_type": "code",
   "execution_count": 5,
   "metadata": {},
   "outputs": [],
   "source": [
    "mean_ = [-14.82381293, -0.29423447, -13.56067979, -1.6288903, -0.31632439,\n",
    "          0.53459687, -1.34069996, -1.61042692, -4.03220519, -0.24332097]\n",
    "var_ = [-14.82381293, -0.29423447, -13.56067979, -1.6288903, -0.31632439,\n",
    "          0.53459687, -1.34069996, -1.61042692, -4.03220519, -0.24332097]\n",
    "mean,var = find_parameters(mean_,var_)"
   ]
  },
  {
   "cell_type": "code",
   "execution_count": 6,
   "metadata": {},
   "outputs": [
    {
     "name": "stdout",
     "output_type": "stream",
     "text": [
      "-3.7315998049999997 5.36864640860051\n"
     ]
    }
   ],
   "source": [
    "print(mean, var)"
   ]
  },
  {
   "cell_type": "code",
   "execution_count": null,
   "metadata": {},
   "outputs": [],
   "source": []
  }
 ],
 "metadata": {
  "kernelspec": {
   "display_name": "Python 3",
   "language": "python",
   "name": "python3"
  },
  "language_info": {
   "codemirror_mode": {
    "name": "ipython",
    "version": 3
   },
   "file_extension": ".py",
   "mimetype": "text/x-python",
   "name": "python",
   "nbconvert_exporter": "python",
   "pygments_lexer": "ipython3",
   "version": "3.6.8"
  }
 },
 "nbformat": 4,
 "nbformat_minor": 2
}
