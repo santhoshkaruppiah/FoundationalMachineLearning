{
 "cells": [
  {
   "cell_type": "code",
   "execution_count": 1,
   "metadata": {},
   "outputs": [],
   "source": [
    "# Qtn-1: Find the probability for the case l>t?"
   ]
  },
  {
   "cell_type": "code",
   "execution_count": 2,
   "metadata": {},
   "outputs": [],
   "source": [
    "# Attached answer as PDF or JPEG file"
   ]
  },
  {
   "cell_type": "code",
   "execution_count": 3,
   "metadata": {},
   "outputs": [],
   "source": [
    "# Qtn-2: Find the probability using Monte Carlo Simulation for l<t , for the general case and fnd the value of pi using\n",
    "# some special case (e.g l=2, and t=3)"
   ]
  },
  {
   "cell_type": "code",
   "execution_count": 4,
   "metadata": {},
   "outputs": [],
   "source": [
    "import random\n",
    "import numpy as np\n",
    "from numpy import sin, cos, arccosh, arccos, pi, sqrt\n",
    "\n",
    "class BuffonNeedlePblm:\n",
    "    \n",
    "    def __init__(self, needle_len, strip_width, trial):\n",
    "        self.needle_len = needle_len\n",
    "        self.strip_width = strip_width\n",
    "        self.trial = trial\n",
    "    \n",
    "    def simulate(self):\n",
    "        successful_hit = 0;\n",
    "        for i in range(int(self.trial)) :\n",
    "            theta = pi*random.random()/2\n",
    "            if self.needle_len * sin(theta) > self.strip_width - self.strip_width*random.random(): \n",
    "                successful_hit += 1\n",
    "        return successful_hit/self.trial\n",
    "\n",
    "    def set_seed(self,seed_value=None):\n",
    "        random.seed(seed_value)\n",
    "        \n",
    "    def estimate_pi(self):\n",
    "        x = self.needle_len/self.strip_width\n",
    "        if self.needle_len <= self.strip_width:\n",
    "            return 2 * self.needle_len / (self.simulate()*self.strip_width)\n",
    "        else:\n",
    "            sim_results = self.simulate()\n",
    "            return 2/ sim_results * (x - sqrt([x*x-1]) + np.cos(x*sim_results/180) )\n",
    "    \n",
    "    def analytic_probability(self):\n",
    "        #return (2 * self.needle_len) / (self.strip_width * pi)\n",
    "        if self.needle_len <= self.strip_width:\n",
    "            return self.analytic_prob_short()\n",
    "        else:\n",
    "            return self.analytic_prob_long()\n",
    "        \n",
    "    def analytic_prob_short(self):\n",
    "        #return (2 * self.needle_len) / (self.strip_width * pi)\n",
    "        x = self.needle_len/self.strip_width\n",
    "        return (2 * x) / (pi)\n",
    "    \n",
    "    def analytic_prob_long(self):\n",
    "        x = self.needle_len/self.strip_width\n",
    "        return (2/pi*(x - sqrt([x*x-1])+ np.cos(x*pi/180)))"
   ]
  },
  {
   "cell_type": "code",
   "execution_count": 5,
   "metadata": {},
   "outputs": [
    {
     "data": {
      "text/plain": [
       "3.1429491863690298"
      ]
     },
     "execution_count": 5,
     "metadata": {},
     "output_type": "execute_result"
    }
   ],
   "source": [
    "#Special case for needle_length=2 and strip_width = 3\n",
    "buffon = BuffonNeedlePblm(needle_len=2, strip_width=3,trial=10e4)\n",
    "buffon.set_seed()\n",
    "buffon.estimate_pi()"
   ]
  },
  {
   "cell_type": "code",
   "execution_count": 6,
   "metadata": {},
   "outputs": [
    {
     "data": {
      "text/plain": [
       "0.42441318157838753"
      ]
     },
     "execution_count": 6,
     "metadata": {},
     "output_type": "execute_result"
    }
   ],
   "source": [
    "buffon.analytic_probability()"
   ]
  },
  {
   "cell_type": "code",
   "execution_count": 7,
   "metadata": {},
   "outputs": [],
   "source": [
    "#Qtn-3: Find the probability using Monte Carlo simulation (l > t) for the general case. \n",
    "#From the probability formula we found for l < t, the probability is linear with l/t."
   ]
  },
  {
   "cell_type": "code",
   "execution_count": 8,
   "metadata": {},
   "outputs": [
    {
     "data": {
      "text/plain": [
       "array([3.86906082])"
      ]
     },
     "execution_count": 8,
     "metadata": {},
     "output_type": "execute_result"
    }
   ],
   "source": [
    "buffon = BuffonNeedlePblm(needle_len=4, strip_width=3,trial=10e4)\n",
    "buffon.set_seed()\n",
    "buffon.estimate_pi()"
   ]
  },
  {
   "cell_type": "code",
   "execution_count": 9,
   "metadata": {},
   "outputs": [
    {
     "data": {
      "text/plain": [
       "array([0.9238279])"
      ]
     },
     "execution_count": 9,
     "metadata": {},
     "output_type": "execute_result"
    }
   ],
   "source": [
    "buffon.analytic_probability()"
   ]
  },
  {
   "cell_type": "code",
   "execution_count": 10,
   "metadata": {},
   "outputs": [],
   "source": [
    "strip_width_case2 =  np.logspace(1, 3, 100)\n",
    "strip_width_case2 = np.array([int(i) for i in strip_width_case2])\n",
    "\n",
    "\n",
    "needle_len_case2 =  np.logspace(4, 6, 100)\n",
    "needle_len_case2 = np.array([int(i) for i in needle_len_case2])\n",
    "\n",
    "strip_needle_tuple_list_case2 = [(strip_width_case2[i], needle_len_case2[i]) for i in range(len(needle_len_case2))]\n",
    "res_list_mc_case2 = []\n",
    "res_list_prob_case2 = []\n",
    "for i in strip_needle_tuple_list_case2:\n",
    "    buffon = BuffonNeedlePblm(needle_len=i[1], strip_width=i[0],trial=10e4)\n",
    "    pi_val = buffon.estimate_pi()\n",
    "    res_list_mc_case2.append(pi_val)\n",
    "    res_list_prob_case2.append(buffon.analytic_probability())"
   ]
  },
  {
   "cell_type": "code",
   "execution_count": 11,
   "metadata": {},
   "outputs": [],
   "source": [
    "#Qtn-4: After writing your general code in Part 3 plot the Probability vs l/t ratio. \n",
    "#Hint: You need to run the simulations for different values of (l/t)\n"
   ]
  },
  {
   "cell_type": "code",
   "execution_count": 12,
   "metadata": {},
   "outputs": [],
   "source": [
    "needle_strip_ratio_list_case2 = [needle_len_case2[i]/strip_width_case2[i] for i in range(len(needle_len_case2))]"
   ]
  },
  {
   "cell_type": "code",
   "execution_count": 13,
   "metadata": {},
   "outputs": [
    {
     "data": {
      "text/plain": [
       "<Figure size 800x800 with 1 Axes>"
      ]
     },
     "metadata": {},
     "output_type": "display_data"
    }
   ],
   "source": [
    "import matplotlib.pyplot as plt\n",
    "\n",
    "fig = plt.figure(figsize=(8,8))\n",
    "\n",
    "plt.plot(res_list_mc_case2, needle_strip_ratio_list_case2, '-.', markersize=2,\n",
    "         label=r\"Probability Vs len/width ratio\") \n",
    "\n",
    "plt.title(r\"Monte Carlo simulation\", fontsize=22)\n",
    "\n",
    "plt.xlabel(r\"x position\", fontsize=18)\n",
    "plt.ylabel(r\"y position\", fontsize=18)\n",
    "\n",
    "plt.legend(bbox_to_anchor=(1, 0.75), fontsize=18, markerscale=10)\n",
    "\n",
    "\n",
    "plt.show()"
   ]
  },
  {
   "cell_type": "code",
   "execution_count": 14,
   "metadata": {},
   "outputs": [],
   "source": [
    "# Qtn-5: Plot the analytic formula for P(l/t) along side your previous result and comment on the result."
   ]
  },
  {
   "cell_type": "code",
   "execution_count": 15,
   "metadata": {},
   "outputs": [
    {
     "data": {
      "image/png": "[encoded data removed]",
      "text/plain": [
       "<Figure size 576x576 with 1 Axes>"
      ]
     },
     "metadata": {
      "needs_background": "light"
     },
     "output_type": "display_data"
    }
   ],
   "source": [
    "import matplotlib.pyplot as plt\n",
    "\n",
    "fig = plt.figure(figsize=(8,8))\n",
    "\n",
    "plt.plot(res_list_mc_case2, needle_strip_ratio_list_case2, '--', markersize=2,\n",
    "         label=r\"MonteCarlo Estimation Vs len/width ratio\") \n",
    "\n",
    "plt.plot(res_list_prob_case2, needle_strip_ratio_list_case2, '--', markersize=2,\n",
    "         label=r\"Probability Vs len/width ratio\") \n",
    "\n",
    "plt.title(r\"Buffon Needle simulation\", fontsize=22)\n",
    "\n",
    "plt.xlabel(r\"x position\", fontsize=18)\n",
    "plt.ylabel(r\"y position\", fontsize=18)\n",
    "\n",
    "plt.legend(bbox_to_anchor=(1, 0.75), fontsize=18, markerscale=10)\n",
    "\n",
    "\n",
    "plt.show()"
   ]
  },
  {
   "cell_type": "code",
   "execution_count": null,
   "metadata": {},
   "outputs": [],
   "source": []
  }
 ],
 "metadata": {
  "kernelspec": {
   "display_name": "Python 3",
   "language": "python",
   "name": "python3"
  },
  "language_info": {
   "codemirror_mode": {
    "name": "ipython",
    "version": 3
   },
   "file_extension": ".py",
   "mimetype": "text/x-python",
   "name": "python",
   "nbconvert_exporter": "python",
   "pygments_lexer": "ipython3",
   "version": "3.6.8"
  }
 },
 "nbformat": 4,
 "nbformat_minor": 2
}
