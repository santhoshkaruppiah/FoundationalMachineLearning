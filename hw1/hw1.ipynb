{
 "cells": [
  {
   "cell_type": "code",
   "execution_count": null,
   "metadata": {},
   "outputs": [],
   "source": [
    "# Problem 1: Python programming\n",
    "\n",
    "# This is a problem to check your coding skills! So do not use fancy modules and scripts!\n",
    "\n",
    "# Production of Fibonacci Sequence!\n",
    "# I have been assigned to write a function that takes an integer value n, where n ∈ [0, 1, 2, 3, ...] and return the \n",
    "# nth value in Fibonacci sequence. Since, I am very lazy I just wrote the function recursively as you can see below. \n",
    "# Another person, who was assigned to do the same thing, wrote the function with for loops and claims his code is much \n",
    "# faster!!\n",
    "\n",
    "# Algorithm 1: Recursive Fibonacci Function\n",
    "\n",
    "def Fib_rec(n=0): \n",
    "    if n==0:\n",
    "        return 1 \n",
    "    elif n==1:\n",
    "        return 1 \n",
    "    else:\n",
    "        return Fib_rec(n-1) + Fib_rec(n-2)\n"
   ]
  },
  {
   "cell_type": "code",
   "execution_count": null,
   "metadata": {},
   "outputs": [],
   "source": [
    "# 1. Part 1: Rewrite the function with for loop."
   ]
  },
  {
   "cell_type": "code",
   "execution_count": null,
   "metadata": {},
   "outputs": [],
   "source": [
    "def fib_iterative(n):\n",
    "    if n==0:\n",
    "        return 0\n",
    "    if n==1:\n",
    "        return 1\n",
    "    first_term = 0\n",
    "    second_term = 1\n",
    "    for n in range(2,n+1):\n",
    "        tmp = first_term + second_term\n",
    "        first_term = second_term\n",
    "        second_term = tmp\n",
    "    return second_term"
   ]
  },
  {
   "cell_type": "code",
   "execution_count": null,
   "metadata": {},
   "outputs": [],
   "source": [
    "def print_fib(n):\n",
    "    for i in range(0,n):\n",
    "        val = fib_iterative(i)\n",
    "        print(\"[n = {} , value = {}] \".format(i,val),end='',flush=True)"
   ]
  },
  {
   "cell_type": "code",
   "execution_count": null,
   "metadata": {},
   "outputs": [
    {
     "name": "stdout",
     "output_type": "stream",
     "text": [
      "[n = 18 , value = 2584] [n = 19 , value = 4181] [n = 20 , value = 6765] "
     ]
    }
   ],
   "source": [
    "p = print_fib(21)"
   ]
  },
  {
   "cell_type": "code",
   "execution_count": 6,
   "metadata": {},
   "outputs": [],
   "source": [
    "# 2. Part 2: Which function is actually faster? (Explain without running the codes)"
   ]
  },
  {
   "cell_type": "markdown",
   "metadata": {},
   "source": [
    "# ANSWER: \n",
    "Function implemented iteratively performs faster than recursive function. This is because, recursive function uses\n",
    "additional stack memory. The stack memory increases recursively as the functiona is called repeatedly."
   ]
  },
  {
   "cell_type": "code",
   "execution_count": 7,
   "metadata": {},
   "outputs": [],
   "source": [
    "#Part 3: Write a code to time the average time for k times function call. \n",
    "# A function that takes three arguments (function to time (Fib rec), input of the function (n), num- ber of runs(k)) \n",
    "# and run the Fib rec function k times for the input of n and returns the average time. Tip: You can use the \n",
    "# time module in the python:"
   ]
  },
  {
   "cell_type": "code",
   "execution_count": 8,
   "metadata": {},
   "outputs": [],
   "source": [
    "import time\n",
    "# if you run this, the current time in (s) will be recorded in x \n",
    "x=time . time ()\n"
   ]
  },
  {
   "cell_type": "code",
   "execution_count": 9,
   "metadata": {},
   "outputs": [],
   "source": [
    "def timer(n, k, f=fib_iterative): \n",
    "    total_time = 0\n",
    "    for i in range(0,k):\n",
    "        x=time.time ()\n",
    "        f(n)\n",
    "        total_time += time.time()-x\n",
    "    average_time = total_time/k\n",
    "    return average_time"
   ]
  },
  {
   "cell_type": "code",
   "execution_count": 10,
   "metadata": {},
   "outputs": [
    {
     "data": {
      "text/plain": [
       "1.3256072998046875e-05"
      ]
     },
     "execution_count": 10,
     "metadata": {},
     "output_type": "execute_result"
    }
   ],
   "source": [
    "timer(21,10)"
   ]
  },
  {
   "cell_type": "code",
   "execution_count": 11,
   "metadata": {},
   "outputs": [],
   "source": [
    "# 4. Part 4: Make a plot in which the x-axis is the value of the input function n and the y-axis is the average time \n",
    "#     (output of the previous function), for both recursive and non- recursive Fibonacci. \n",
    "#     (Both in the same plot; also use matplotlib package for making the plots)\n"
   ]
  },
  {
   "cell_type": "code",
   "execution_count": 12,
   "metadata": {},
   "outputs": [],
   "source": [
    "import matplotlib.pyplot as plt"
   ]
  },
  {
   "cell_type": "code",
   "execution_count": 17,
   "metadata": {},
   "outputs": [
    {
     "data": {
      "image/png": "[encoded data removed]",
      "text/plain": [
       "<Figure size 432x288 with 1 Axes>"
      ]
     },
     "metadata": {
      "needs_background": "light"
     },
     "output_type": "display_data"
    }
   ],
   "source": [
    "x = [x for x in range(0,20)]\n",
    "y_iter = [timer(n = x, k = 5) for x in range(0,20)]\n",
    "y_recur = [timer(n = x, k = 5, f = Fib_rec) for x in range(0,20)]\n",
    "plt.plot(x, y_recur, label=\"Recursive Function\")\n",
    "plt.plot(x, y_iter, label=\"Iterative Function\")\n",
    "\n",
    "\n",
    "plt.title(r\"Avg_Runtime_Analysis\")\n",
    "plt.xlabel(r\"$x$\")\n",
    "plt.ylabel(r\"Fibonacci_Function\")\n",
    "\n",
    "plt.legend()\n",
    "plt.show()"
   ]
  },
  {
   "cell_type": "code",
   "execution_count": null,
   "metadata": {},
   "outputs": [],
   "source": [
    "# Problem 2: Linear Algebra\n",
    "# Given the Matrix below answer the questions:\n"
   ]
  },
  {
   "cell_type": "markdown",
   "metadata": {},
   "source": [
    "$$\\begin{pmatrix}1 & -4 & 2\\\\ -4 & 1 & -2\\\\2 & -2 & -2\\end{pmatrix}$$\n"
   ]
  },
  {
   "cell_type": "code",
   "execution_count": null,
   "metadata": {},
   "outputs": [],
   "source": [
    "#Part 1: Find the determinant, transpose, inverse(if exist) for M."
   ]
  },
  {
   "cell_type": "markdown",
   "metadata": {},
   "source": [
    "# Answer:\n",
    "Determinant- det[M]: 1*(-2-4)-*(-4) * (8+4) +2 * (8-2) = 54"
   ]
  },
  {
   "cell_type": "markdown",
   "metadata": {},
   "source": [
    "# Transpose of matrix [M]"
   ]
  },
  {
   "cell_type": "markdown",
   "metadata": {},
   "source": [
    "$$\\begin{pmatrix}1 & -4 & 2\\\\ -4 & 1 & -2\\\\2 & -2 & -2\\end{pmatrix}$$"
   ]
  },
  {
   "cell_type": "markdown",
   "metadata": {},
   "source": [
    "# Inverse of matrix (M)"
   ]
  },
  {
   "cell_type": "markdown",
   "metadata": {},
   "source": [
    "Find attachment PDF for hand written answer"
   ]
  },
  {
   "cell_type": "code",
   "execution_count": null,
   "metadata": {},
   "outputs": [],
   "source": [
    "# Part 2: Find the eigenvalues and eigenvectors for M."
   ]
  },
  {
   "cell_type": "markdown",
   "metadata": {},
   "source": [
    "# Answer\n",
    "Find attachment PDF for hand written answer"
   ]
  },
  {
   "cell_type": "code",
   "execution_count": null,
   "metadata": {},
   "outputs": [],
   "source": [
    "# Part 3: Find the Gradient if the ∇Af(A) for the following:"
   ]
  },
  {
   "cell_type": "markdown",
   "metadata": {},
   "source": [
    "$$\\begin{pmatrix}x11 & x12 & x13\\\\ x21 & x22 & x23\\\\x31 & x31 & x33\\end{pmatrix}$$\n"
   ]
  },
  {
   "cell_type": "code",
   "execution_count": null,
   "metadata": {},
   "outputs": [],
   "source": [
    "# f(A) = x^211x22x23 + x11x12x13x31 − x^233x32x21"
   ]
  },
  {
   "cell_type": "markdown",
   "metadata": {},
   "source": [
    "# Answer\n",
    "Find attachment PDF for hand written answer"
   ]
  },
  {
   "cell_type": "code",
   "execution_count": null,
   "metadata": {},
   "outputs": [],
   "source": [
    "# Part 4: Find the Hessian Matrix for: g(x, y, z) = x3y + yz sin(x) + xy2z5"
   ]
  },
  {
   "cell_type": "markdown",
   "metadata": {},
   "source": [
    "# Answer:\n",
    "Find attachment PDF for hand written answer"
   ]
  },
  {
   "cell_type": "code",
   "execution_count": null,
   "metadata": {},
   "outputs": [],
   "source": [
    "# Problem 3: Machine Learning"
   ]
  },
  {
   "cell_type": "code",
   "execution_count": null,
   "metadata": {},
   "outputs": [],
   "source": [
    "# Part 1: Explain the difference between validation and test samples."
   ]
  },
  {
   "cell_type": "markdown",
   "metadata": {},
   "source": [
    "# Answer: \n",
    "\n",
    "#Validation Set: We split the data into training, validation and test set. We train our different models on training set and use validation set to see which of the many different models perform well on validation set. After repeating this for many times we pick final best model and evaluate on test set.\n",
    "\n",
    "Examples/Samples used to tune the parameters of a learning algorithm when working with labeled data. Learning algorithms have typically one or more free parameters and the validation sample is used to select appropriate values for these model parameters\n",
    "\n",
    "Test Samples: Examples/Samples used to evaluate the performance of a learning algorithm. The test sample is separate from the training and validation data and is not made available at the learning stage. Predictions are made out of test sample using same algorithm. These predictions are then compared with the labels of the test sample to measure the performance of the algorithm."
   ]
  },
  {
   "cell_type": "code",
   "execution_count": null,
   "metadata": {},
   "outputs": [],
   "source": [
    "# Part 2: Explain the difference between supervised and unsupervised learning algorithm."
   ]
  },
  {
   "cell_type": "markdown",
   "metadata": {},
   "source": [
    "# Answer: \n",
    "Supervised Learning: When we have set of labelled data as training data and makes prediction on unseen data. \n",
    "Examples: regression, ranking and classification problems\n",
    "\n",
    "Unsupervised Learning: The learner receives unlabelled training data and makes predictions for all unseen data. \n",
    "Examples: clustering and dimension reductions"
   ]
  }
 ],
 "metadata": {
  "kernelspec": {
   "display_name": "Python 3",
   "language": "python",
   "name": "python3"
  },
  "language_info": {
   "codemirror_mode": {
    "name": "ipython",
    "version": 3
   },
   "file_extension": ".py",
   "mimetype": "text/x-python",
   "name": "python",
   "nbconvert_exporter": "python",
   "pygments_lexer": "ipython3",
   "version": "3.6.8"
  }
 },
 "nbformat": 4,
 "nbformat_minor": 2
}
